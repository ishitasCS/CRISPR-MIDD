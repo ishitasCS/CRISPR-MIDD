{
 "cells": [
  {
   "cell_type": "code",
   "execution_count": 1,
   "id": "b5a7495d",
   "metadata": {},
   "outputs": [],
   "source": [
    "def label_creator(file):\n",
    "    fout = open('Labels.csv', 'w')\n",
    "    labels = []\n",
    "    with open(file) as file_obj:\n",
    "        heading = next(file_obj)\n",
    "        reader_obj = csv.reader(file_obj)\n",
    "        \n",
    "        for row in reader_obj:\n",
    "            target_sequence = row[5]\n",
    "            target_sequence1 = row[12]\n",
    "            \n",
    "            if target_sequence == target_sequence1:\n",
    "                labels.append(1)\n",
    "            else:\n",
    "                labels.append(0)\n",
    "    y = np.array(labels)\n",
    "    print(y.shape)\n",
    "    print(labels)\n",
    "    #tensor1 = tf.convert_to_tensor(labels)\n",
    "    fout.close()\n",
    "    #print(tensor1)\n",
    "    return y\n",
    "    \n",
    "#train_labels = label_creator('100720.csv')"
   ]
  },
  {
   "cell_type": "code",
   "execution_count": null,
   "id": "dc9bb729",
   "metadata": {},
   "outputs": [],
   "source": []
  }
 ],
 "metadata": {
  "kernelspec": {
   "display_name": "Python 3 (ipykernel)",
   "language": "python",
   "name": "python3"
  },
  "language_info": {
   "codemirror_mode": {
    "name": "ipython",
    "version": 3
   },
   "file_extension": ".py",
   "mimetype": "text/x-python",
   "name": "python",
   "nbconvert_exporter": "python",
   "pygments_lexer": "ipython3",
   "version": "3.10.9"
  }
 },
 "nbformat": 4,
 "nbformat_minor": 5
}
