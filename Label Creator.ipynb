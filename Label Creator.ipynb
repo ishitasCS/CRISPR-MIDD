{
 "cells": [
  {
   "cell_type": "code",
   "execution_count": 4,
   "id": "2a32b17d",
   "metadata": {},
   "outputs": [],
   "source": [
    "# Creates a label for either mismatch, insertion, or deletion\n",
    "def labelcreator(file, mutate_column, guide_column):\n",
    "    with open(file) as file_obj:\n",
    "\n",
    "        heading = next(file_obj)\n",
    "        reader_obj = csv.reader(file_obj)\n",
    "    \n",
    "        for row in reader_obj:\n",
    "            mutated_column = row[mutate_column]\n",
    "            WTSequence_column = row[guide_column]\n",
    "            \n",
    "            counter = 0\n",
    "            for r in range(23):\n",
    "                if(WTSequence_column[r+1]) == \"_\":\n",
    "                    labels.append(0)\n",
    "                elif(mutated_column[r+1] == \"_\"):\n",
    "                    labels.append(1)\n",
    "                else:\n",
    "                    counter += 1\n",
    "            if counter == 23:\n",
    "                labels.append(2)\n",
    "\n",
    "labelcreator(\"CIRCLE_seq_10gRNA_wholeDataset.csv\", 1, 0)\n",
    "labels = np.array(labels)\n",
    "#print(labels)"
   ]
  },
  {
   "cell_type": "code",
   "execution_count": 5,
   "id": "96c12b0e",
   "metadata": {},
   "outputs": [],
   "source": [
    "#0 means on target\n",
    "#1 means off target\n",
    "label = []\n",
    "def label_create_for_active_or_not(file, mutate_column, guide_column):\n",
    "    with open(file) as file_obj:\n",
    "\n",
    "        heading = next(file_obj)\n",
    "        reader_obj = csv.reader(file_obj)\n",
    "    \n",
    "        for row in reader_obj:\n",
    "            mutated_column = row[mutate_column]\n",
    "            WTSequence_column = row[guide_column]\n",
    "            \n",
    "            if mutated_column == WTSequence_column:\n",
    "                label.append(0)\n",
    "            else:\n",
    "                label.append(1)\n",
    "\n",
    "label_create_for_active_or_not(\"GUIDE-seq output-Table 1.csv\", 8, 9)\n",
    "label_create_for_active_or_not(\"STable 18 CD33_OffTargetdata 2.csv\", 1, 2)\n",
    "\n",
    "label = np.array(label)\n",
    "                \n",
    "print(label.shape)\n",
    "       "
   ]
  },
  {
   "cell_type": "code",
   "execution_count": null,
   "id": "afe93459",
   "metadata": {},
   "outputs": [],
   "source": []
  }
 ],
 "metadata": {
  "kernelspec": {
   "display_name": "Python 3 (ipykernel)",
   "language": "python",
   "name": "python3"
  },
  "language_info": {
   "codemirror_mode": {
    "name": "ipython",
    "version": 3
   },
   "file_extension": ".py",
   "mimetype": "text/x-python",
   "name": "python",
   "nbconvert_exporter": "python",
   "pygments_lexer": "ipython3",
   "version": "3.10.9"
  }
 },
 "nbformat": 4,
 "nbformat_minor": 5
}
