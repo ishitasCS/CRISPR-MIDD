{
 "cells": [
  {
   "cell_type": "code",
   "execution_count": 1,
   "id": "9a58d05e",
   "metadata": {},
   "outputs": [],
   "source": [
    "import csv\n",
    "import numpy as np\n",
    "import tensorflow as tf\n",
    "from sklearn.model_selection import train_test_split"
   ]
  },
  {
   "cell_type": "code",
   "execution_count": 2,
   "id": "9e79d241",
   "metadata": {},
   "outputs": [],
   "source": [
    "def target_sequence_encoder(word):\n",
    "    with open(word) as file_obj:\n",
    "        heading = next(file_obj)\n",
    "        reader_obj = csv.reader(file_obj)\n",
    "        \n",
    "        another_empty = []\n",
    "        for row in reader_obj:\n",
    "            empty = []\n",
    "            target_sequence = row[5]\n",
    "            \n",
    "            for r in range (len(target_sequence)):\n",
    "                if target_sequence[r] == 'A':\n",
    "                    empty.append([1,0,0,0])\n",
    "                elif target_sequence[r] == 'T':\n",
    "                    empty. append([0,1,0,0])\n",
    "                elif target_sequence[r] == 'G':\n",
    "                    empty.append([0,0,1,0])\n",
    "                elif target_sequence[r] == 'C':\n",
    "                    empty.append([0,0,0,1])\n",
    "            if len(empty) < 25:\n",
    "                for r in range (25-len(empty)):\n",
    "                    empty.append([0,0,0,0])\n",
    "            another_empty.append(empty)\n",
    "            #print(len(empty))\n",
    "    #print(np.shape(another_empty))\n",
    "    return another_empty\n",
    "    \n",
    "\n",
    "#print(target_sequence_encoder('100720.csv'))"
   ]
  },
  {
   "cell_type": "code",
   "execution_count": 3,
   "id": "e35752ee",
   "metadata": {},
   "outputs": [],
   "source": [
    "def grna_sequence_encoder(word):\n",
    "    with open(word) as file_obj:\n",
    "        heading = next(file_obj)\n",
    "        reader_obj = csv.reader(file_obj)\n",
    "        \n",
    "        another_empty = []\n",
    "        for row in reader_obj:\n",
    "            empty = []\n",
    "            target_sequence = row[12]\n",
    "            \n",
    "            for r in range (len(target_sequence)):\n",
    "                if target_sequence[r] == 'A':\n",
    "                    empty.append([1,0,0,0])\n",
    "                elif target_sequence[r] == 'T':\n",
    "                    empty. append([0,1,0,0])\n",
    "                elif target_sequence[r] == 'G':\n",
    "                    empty.append([0,0,1,0])\n",
    "                elif target_sequence[r] == 'C':\n",
    "                    empty.append([0,0,0,1])\n",
    "            if len(empty) < 25:\n",
    "                for r in range (25-len(empty)):\n",
    "                    empty.append([0,0,0,0])\n",
    "            #print(len(empty))\n",
    "            another_empty.append(empty)\n",
    "    \n",
    "    return another_empty\n",
    "\n",
    "#grna_sequence_encoder('100720.csv')"
   ]
  },
  {
   "cell_type": "code",
   "execution_count": 4,
   "id": "3349f10c",
   "metadata": {},
   "outputs": [
    {
     "name": "stdout",
     "output_type": "stream",
     "text": [
      "25632\n",
      "25632\n"
     ]
    }
   ],
   "source": [
    "def actual_encoder(file):\n",
    "    function1 = target_sequence_encoder(file)\n",
    "    #print(function1)\n",
    "    print(len(function1))\n",
    "    function2 = grna_sequence_encoder(file)\n",
    "    #print(function2)\n",
    "    print(len(function2))\n",
    "    another_one = []\n",
    "    \n",
    "    for r in range(25632):\n",
    "        for s in range(25):\n",
    "            #print(function2[r][s]) \n",
    "            if function1[r][s] == function2[r][s]:\n",
    "                another_one.append(function1[r][s])\n",
    "            else:\n",
    "                new = []\n",
    "                for i in range(len(function1[r][s])):\n",
    "                    new.append(function1[r][s][i] + function2[r][s][i])\n",
    "                another_one.append(new)\n",
    "    \n",
    "    array = np.array(another_one)\n",
    "    x = np.reshape(array, (25632, 25, 4))\n",
    "    #tensor = tf.convert_to_tensor(array)\n",
    "    \n",
    "    #print(np.array(array).shape)\n",
    "    #print(tensor)\n",
    "    return x\n",
    "#print(actual_encoder('100720.csv'))\n",
    "train_data = actual_encoder('100720.csv')"
   ]
  },
  {
   "cell_type": "code",
   "execution_count": null,
   "id": "74c5e14f",
   "metadata": {},
   "outputs": [],
   "source": []
  }
 ],
 "metadata": {
  "kernelspec": {
   "display_name": "Python 3 (ipykernel)",
   "language": "python",
   "name": "python3"
  },
  "language_info": {
   "codemirror_mode": {
    "name": "ipython",
    "version": 3
   },
   "file_extension": ".py",
   "mimetype": "text/x-python",
   "name": "python",
   "nbconvert_exporter": "python",
   "pygments_lexer": "ipython3",
   "version": "3.10.9"
  }
 },
 "nbformat": 4,
 "nbformat_minor": 5
}
