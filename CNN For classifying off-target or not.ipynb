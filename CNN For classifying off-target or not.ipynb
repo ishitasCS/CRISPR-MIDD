{
 "cells": [
  {
   "cell_type": "code",
   "execution_count": 1,
   "id": "d155d9bf",
   "metadata": {},
   "outputs": [
    {
     "ename": "NameError",
     "evalue": "name 'csv' is not defined",
     "output_type": "error",
     "traceback": [
      "\u001b[0;31m---------------------------------------------------------------------------\u001b[0m",
      "\u001b[0;31mNameError\u001b[0m                                 Traceback (most recent call last)",
      "Cell \u001b[0;32mIn[1], line 31\u001b[0m\n\u001b[1;32m     28\u001b[0m             MutatedSequence\u001b[38;5;241m.\u001b[39mappend(emp2)\n\u001b[1;32m     29\u001b[0m             WTSequence\u001b[38;5;241m.\u001b[39mappend(emp1)\n\u001b[0;32m---> 31\u001b[0m \u001b[43mactive_off_target_or_not\u001b[49m\u001b[43m(\u001b[49m\u001b[38;5;124;43m\"\u001b[39;49m\u001b[38;5;124;43mGUIDE-seq output-Table 1.csv\u001b[39;49m\u001b[38;5;124;43m\"\u001b[39;49m\u001b[43m,\u001b[49m\u001b[43m \u001b[49m\u001b[38;5;241;43m8\u001b[39;49m\u001b[43m,\u001b[49m\u001b[43m \u001b[49m\u001b[38;5;241;43m9\u001b[39;49m\u001b[43m)\u001b[49m\n\u001b[1;32m     32\u001b[0m \u001b[38;5;66;03m#active_off_target_or_not(\"STable 18 CD33_OffTargetdata 2.csv\", 2, 1)\u001b[39;00m\n\u001b[1;32m     33\u001b[0m \u001b[38;5;28mprint\u001b[39m(np\u001b[38;5;241m.\u001b[39marray(WTSequence)\u001b[38;5;241m.\u001b[39mshape)\n",
      "Cell \u001b[0;32mIn[1], line 15\u001b[0m, in \u001b[0;36mactive_off_target_or_not\u001b[0;34m(file, target, off_target)\u001b[0m\n\u001b[1;32m     12\u001b[0m \u001b[38;5;28;01mwith\u001b[39;00m \u001b[38;5;28mopen\u001b[39m(file) \u001b[38;5;28;01mas\u001b[39;00m file_obj:\n\u001b[1;32m     14\u001b[0m     heading \u001b[38;5;241m=\u001b[39m \u001b[38;5;28mnext\u001b[39m(file_obj)\n\u001b[0;32m---> 15\u001b[0m     reader_obj \u001b[38;5;241m=\u001b[39m \u001b[43mcsv\u001b[49m\u001b[38;5;241m.\u001b[39mreader(file_obj)\n\u001b[1;32m     17\u001b[0m     \u001b[38;5;28;01mfor\u001b[39;00m row \u001b[38;5;129;01min\u001b[39;00m reader_obj:\n\u001b[1;32m     18\u001b[0m         Target \u001b[38;5;241m=\u001b[39m row[target]\n",
      "\u001b[0;31mNameError\u001b[0m: name 'csv' is not defined"
     ]
    }
   ],
   "source": [
    "labels = []\n",
    "mutate = []\n",
    "MutatedSequence = []\n",
    "WTSequence = []\n",
    "WTsequence = []\n",
    "vector_mutated = []\n",
    "vector_WTsequence = []\n",
    "final_encode = []\n",
    "\n",
    "\n",
    "def active_off_target_or_not(file, target, off_target):\n",
    "    with open(file) as file_obj:\n",
    "\n",
    "        heading = next(file_obj)\n",
    "        reader_obj = csv.reader(file_obj)\n",
    "    \n",
    "        for row in reader_obj:\n",
    "            Target = row[target]\n",
    "            mutated_column = row[off_target]\n",
    "            \n",
    "            emp1 = []\n",
    "            emp2 = []\n",
    "            \n",
    "            for r in range(23):\n",
    "                emp1.append(Target[r])\n",
    "                emp2.append(mutated_column[r])\n",
    "            \n",
    "            MutatedSequence.append(emp2)\n",
    "            WTSequence.append(emp1)\n",
    "            \n",
    "active_off_target_or_not(\"GUIDE-seq output-Table 1.csv\", 8, 9)\n",
    "#active_off_target_or_not(\"STable 18 CD33_OffTargetdata 2.csv\", 2, 1)\n",
    "print(np.array(WTSequence).shape)\n",
    "print(np.array(MutatedSequence).shape)\n"
   ]
  },
  {
   "cell_type": "code",
   "execution_count": 2,
   "id": "e28f8d86",
   "metadata": {},
   "outputs": [
    {
     "ename": "NameError",
     "evalue": "name 'csv' is not defined",
     "output_type": "error",
     "traceback": [
      "\u001b[0;31m---------------------------------------------------------------------------\u001b[0m",
      "\u001b[0;31mNameError\u001b[0m                                 Traceback (most recent call last)",
      "Cell \u001b[0;32mIn[2], line 100\u001b[0m\n\u001b[1;32m     94\u001b[0m                     emptiness2\u001b[38;5;241m.\u001b[39mappend(\u001b[38;5;124m\"\u001b[39m\u001b[38;5;124m!\u001b[39m\u001b[38;5;124m\"\u001b[39m)\n\u001b[1;32m     96\u001b[0m                 WTSequence\u001b[38;5;241m.\u001b[39mappend(emptiness2)\n\u001b[0;32m--> 100\u001b[0m \u001b[43mactive_or_not_with_23\u001b[49m\u001b[43m(\u001b[49m\u001b[38;5;124;43m\"\u001b[39;49m\u001b[38;5;124;43mSTable 18 CD33_OffTargetdata 2.csv\u001b[39;49m\u001b[38;5;124;43m\"\u001b[39;49m\u001b[43m,\u001b[49m\u001b[43m \u001b[49m\u001b[38;5;241;43m1\u001b[39;49m\u001b[43m,\u001b[49m\u001b[43m \u001b[49m\u001b[38;5;241;43m2\u001b[39;49m\u001b[43m,\u001b[49m\u001b[43m \u001b[49m\u001b[38;5;241;43m7\u001b[39;49m\u001b[43m)\u001b[49m\n\u001b[1;32m    101\u001b[0m \u001b[38;5;66;03m#print(WTSequence)\u001b[39;00m\n\u001b[1;32m    103\u001b[0m \u001b[38;5;28mprint\u001b[39m(np\u001b[38;5;241m.\u001b[39marray(WTSequence)\u001b[38;5;241m.\u001b[39mshape)\n",
      "Cell \u001b[0;32mIn[2], line 4\u001b[0m, in \u001b[0;36mactive_or_not_with_23\u001b[0;34m(file, mutate_column, wt_column, category_column)\u001b[0m\n\u001b[1;32m      2\u001b[0m \u001b[38;5;28;01mwith\u001b[39;00m \u001b[38;5;28mopen\u001b[39m(file) \u001b[38;5;28;01mas\u001b[39;00m file_obj:\n\u001b[1;32m      3\u001b[0m     heading \u001b[38;5;241m=\u001b[39m \u001b[38;5;28mnext\u001b[39m(file_obj)\n\u001b[0;32m----> 4\u001b[0m     reader_obj \u001b[38;5;241m=\u001b[39m \u001b[43mcsv\u001b[49m\u001b[38;5;241m.\u001b[39mreader(file_obj)\n\u001b[1;32m      6\u001b[0m     \u001b[38;5;66;03m#mutate = []\u001b[39;00m\n\u001b[1;32m      7\u001b[0m     \u001b[38;5;66;03m#WTsequence = []\u001b[39;00m\n\u001b[1;32m      9\u001b[0m     \u001b[38;5;28;01mfor\u001b[39;00m row \u001b[38;5;129;01min\u001b[39;00m reader_obj:\n",
      "\u001b[0;31mNameError\u001b[0m: name 'csv' is not defined"
     ]
    }
   ],
   "source": [
    "def active_or_not_with_23(file, mutate_column, wt_column, category_column):\n",
    "    with open(file) as file_obj:\n",
    "        heading = next(file_obj)\n",
    "        reader_obj = csv.reader(file_obj)\n",
    "        \n",
    "        #mutate = []\n",
    "        #WTsequence = []\n",
    "     \n",
    "        for row in reader_obj:\n",
    "            \n",
    "            mutated_column = row[mutate_column]\n",
    "            WTSequence_column = row[wt_column]\n",
    "            \n",
    "            #print(len(mutated_column), len(WTSequence_column))\n",
    "            \n",
    "            if category_column == \"none\":\n",
    "                category = \"Mismatch\"\n",
    "            \n",
    "            \n",
    "            category = row[category_column]\n",
    "            \n",
    "            #for r in range(len(category_column)):\n",
    "            if category == \"Mismatch\" or category == \"PAM\" or category == \"23\":\n",
    "                emp1 = []\n",
    "                emp2 = []\n",
    "                for r in range(20):\n",
    "                    emp1.append(WTSequence_column[r])\n",
    "                    emp2.append(mutated_column[r])\n",
    "                for i in range(3):\n",
    "                    emp1.append(\"!\")\n",
    "                    emp2.append(\"!\")\n",
    "                \n",
    "                MutatedSequence.append(emp2)\n",
    "                WTSequence.append(emp1)\n",
    "                #print(len(WTSequence), len(MutatedSequence))\n",
    "            #This adds a \"*\" in the WTsequence since there is an insertion\n",
    "            elif category == \"Insertion\" or category == \"24\" :\n",
    "                empty1 = []\n",
    "                empty2 = []\n",
    "                counter = -1\n",
    "                for i in range(20):\n",
    "                    if mutated_column[i] == WTSequence_column[i]:\n",
    "                        empty1.append(WTSequence_column[i])\n",
    "                        counter += 1\n",
    "                    else:\n",
    "                        counter += 1\n",
    "                        empty1.append(\"*\")\n",
    "                        break\n",
    "                for x in range(20-counter):\n",
    "                    empty1.append(WTSequence_column[counter])\n",
    "                    counter += 1\n",
    "                for i in range(2):\n",
    "                    empty1.append(\"!\")\n",
    "                WTSequence.append(empty1)\n",
    "                \n",
    "                for r in range(21):\n",
    "                    empty2.append(mutated_column[r])\n",
    "                for i in range(2):\n",
    "                    empty2.append(\"!\")\n",
    "                MutatedSequence.append(empty2)\n",
    "                #print(len(WTSequence), len(MutatedSequence))\n",
    "                \n",
    "            \n",
    "            #This adds a \"-\" in the mutate since there is an insertion\n",
    "            elif category == \"Deletion\" or category == \"22\":\n",
    "                emptiness1 = []\n",
    "                emptiness2 = []\n",
    "                counter = -1\n",
    "                for i in range(19):\n",
    "                    if mutated_column[i] == WTSequence_column[i]:\n",
    "                        emptiness1.append(mutated_column[i])\n",
    "                        counter += 1\n",
    "                    elif mutated_column[i] == \"-\":\n",
    "                        pass\n",
    "                    \n",
    "                    else:\n",
    "                        counter += 1\n",
    "                        emptiness1.append(\"-\")\n",
    "                        break\n",
    "                for x in range(19-counter):\n",
    "                    emptiness1.append(mutated_column[counter])\n",
    "                    counter += 1\n",
    "                \n",
    "                for i in range(3):\n",
    "                    emptiness1.append(\"!\")\n",
    "                \n",
    "                MutatedSequence.append(emptiness1)\n",
    "                \n",
    "                \n",
    "                for r in range(20):\n",
    "                    emptiness2.append(WTSequence_column[r])\n",
    "                \n",
    "                for i in range(3):\n",
    "                    emptiness2.append(\"!\")\n",
    "                \n",
    "                WTSequence.append(emptiness2)\n",
    "               \n",
    "\n",
    "                \n",
    "active_or_not_with_23(\"STable 18 CD33_OffTargetdata 2.csv\", 1, 2, 7)\n",
    "#print(WTSequence)\n",
    "\n",
    "print(np.array(WTSequence).shape)\n",
    "print(np.array(MutatedSequence).shape)"
   ]
  },
  {
   "cell_type": "code",
   "execution_count": 3,
   "id": "6af40ccd",
   "metadata": {},
   "outputs": [
    {
     "ename": "NameError",
     "evalue": "name 'keras' is not defined",
     "output_type": "error",
     "traceback": [
      "\u001b[0;31m---------------------------------------------------------------------------\u001b[0m",
      "\u001b[0;31mNameError\u001b[0m                                 Traceback (most recent call last)",
      "Cell \u001b[0;32mIn[3], line 2\u001b[0m\n\u001b[1;32m      1\u001b[0m \u001b[38;5;66;03m#Trying it on a CNN model\u001b[39;00m\n\u001b[0;32m----> 2\u001b[0m model2 \u001b[38;5;241m=\u001b[39m \u001b[43mkeras\u001b[49m\u001b[38;5;241m.\u001b[39mmodels\u001b[38;5;241m.\u001b[39mSequential()\n\u001b[1;32m      4\u001b[0m model2\u001b[38;5;241m.\u001b[39madd(Conv2D(\u001b[38;5;241m64\u001b[39m, kernel_size\u001b[38;5;241m=\u001b[39m\u001b[38;5;241m3\u001b[39m, activation\u001b[38;5;241m=\u001b[39m\u001b[38;5;124m\"\u001b[39m\u001b[38;5;124mrelu\u001b[39m\u001b[38;5;124m\"\u001b[39m, input_shape\u001b[38;5;241m=\u001b[39m(\u001b[38;5;241m23\u001b[39m,\u001b[38;5;241m6\u001b[39m,\u001b[38;5;241m1\u001b[39m)))\n\u001b[1;32m      5\u001b[0m model2\u001b[38;5;241m.\u001b[39madd(Conv2D(\u001b[38;5;241m32\u001b[39m, kernel_size\u001b[38;5;241m=\u001b[39m\u001b[38;5;241m3\u001b[39m, activation\u001b[38;5;241m=\u001b[39m\u001b[38;5;124m\"\u001b[39m\u001b[38;5;124mrelu\u001b[39m\u001b[38;5;124m\"\u001b[39m))\n",
      "\u001b[0;31mNameError\u001b[0m: name 'keras' is not defined"
     ]
    }
   ],
   "source": [
    "#Trying it on a CNN model\n",
    "model2 = keras.models.Sequential()\n",
    "\n",
    "model2.add(Conv2D(64, kernel_size=3, activation=\"relu\", input_shape=(23,6,1)))\n",
    "model2.add(Conv2D(32, kernel_size=3, activation=\"relu\"))\n",
    "model2.add(Flatten())\n",
    "model2.add(Dense(2, activation=\"softmax\"))"
   ]
  },
  {
   "cell_type": "code",
   "execution_count": 4,
   "id": "c139fb06",
   "metadata": {},
   "outputs": [
    {
     "ename": "NameError",
     "evalue": "name 'model2' is not defined",
     "output_type": "error",
     "traceback": [
      "\u001b[0;31m---------------------------------------------------------------------------\u001b[0m",
      "\u001b[0;31mNameError\u001b[0m                                 Traceback (most recent call last)",
      "Cell \u001b[0;32mIn[4], line 1\u001b[0m\n\u001b[0;32m----> 1\u001b[0m \u001b[43mmodel2\u001b[49m\u001b[38;5;241m.\u001b[39mcompile(loss\u001b[38;5;241m=\u001b[39m\u001b[38;5;124m\"\u001b[39m\u001b[38;5;124msparse_categorical_crossentropy\u001b[39m\u001b[38;5;124m\"\u001b[39m, optimizer \u001b[38;5;241m=\u001b[39m \u001b[38;5;124m\"\u001b[39m\u001b[38;5;124msgd\u001b[39m\u001b[38;5;124m\"\u001b[39m, metrics\u001b[38;5;241m=\u001b[39m[\u001b[38;5;124m\"\u001b[39m\u001b[38;5;124maccuracy\u001b[39m\u001b[38;5;124m\"\u001b[39m])\n",
      "\u001b[0;31mNameError\u001b[0m: name 'model2' is not defined"
     ]
    }
   ],
   "source": [
    "model2.compile(loss=\"sparse_categorical_crossentropy\", optimizer = \"sgd\", metrics=[\"accuracy\"])"
   ]
  },
  {
   "cell_type": "code",
   "execution_count": 5,
   "id": "f788fc3d",
   "metadata": {},
   "outputs": [
    {
     "ename": "NameError",
     "evalue": "name 'model2' is not defined",
     "output_type": "error",
     "traceback": [
      "\u001b[0;31m---------------------------------------------------------------------------\u001b[0m",
      "\u001b[0;31mNameError\u001b[0m                                 Traceback (most recent call last)",
      "Cell \u001b[0;32mIn[5], line 1\u001b[0m\n\u001b[0;32m----> 1\u001b[0m history \u001b[38;5;241m=\u001b[39m \u001b[43mmodel2\u001b[49m\u001b[38;5;241m.\u001b[39mfit(X_train, y_train, epochs \u001b[38;5;241m=\u001b[39m \u001b[38;5;241m30\u001b[39m, validation_data\u001b[38;5;241m=\u001b[39m(X_val, y_val))\n",
      "\u001b[0;31mNameError\u001b[0m: name 'model2' is not defined"
     ]
    }
   ],
   "source": [
    "history = model2.fit(X_train, y_train, epochs = 30, validation_data=(X_val, y_val))"
   ]
  },
  {
   "cell_type": "code",
   "execution_count": 6,
   "id": "22ad8ecd",
   "metadata": {},
   "outputs": [
    {
     "ename": "NameError",
     "evalue": "name 'model2' is not defined",
     "output_type": "error",
     "traceback": [
      "\u001b[0;31m---------------------------------------------------------------------------\u001b[0m",
      "\u001b[0;31mNameError\u001b[0m                                 Traceback (most recent call last)",
      "Cell \u001b[0;32mIn[6], line 1\u001b[0m\n\u001b[0;32m----> 1\u001b[0m \u001b[43mmodel2\u001b[49m\u001b[38;5;241m.\u001b[39mevaluate(X_test, y_test)\n",
      "\u001b[0;31mNameError\u001b[0m: name 'model2' is not defined"
     ]
    }
   ],
   "source": [
    "model2.evaluate(X_test, y_test)"
   ]
  },
  {
   "cell_type": "code",
   "execution_count": 7,
   "id": "ec47caa3",
   "metadata": {},
   "outputs": [
    {
     "ename": "NameError",
     "evalue": "name 'model2' is not defined",
     "output_type": "error",
     "traceback": [
      "\u001b[0;31m---------------------------------------------------------------------------\u001b[0m",
      "\u001b[0;31mNameError\u001b[0m                                 Traceback (most recent call last)",
      "Cell \u001b[0;32mIn[7], line 1\u001b[0m\n\u001b[0;32m----> 1\u001b[0m \u001b[38;5;28mprint\u001b[39m(\u001b[38;5;124m\"\u001b[39m\u001b[38;5;124mscore on test: \u001b[39m\u001b[38;5;124m\"\u001b[39m \u001b[38;5;241m+\u001b[39m \u001b[38;5;28mstr\u001b[39m(\u001b[43mmodel2\u001b[49m\u001b[38;5;241m.\u001b[39mevaluate(X_test, y_test)))\n\u001b[1;32m      2\u001b[0m \u001b[38;5;28mprint\u001b[39m(\u001b[38;5;124m\"\u001b[39m\u001b[38;5;124mscore on train: \u001b[39m\u001b[38;5;124m\"\u001b[39m\u001b[38;5;241m+\u001b[39m \u001b[38;5;28mstr\u001b[39m(model2\u001b[38;5;241m.\u001b[39mevaluate(X_train, y_train)))\n",
      "\u001b[0;31mNameError\u001b[0m: name 'model2' is not defined"
     ]
    }
   ],
   "source": [
    "print(\"score on test: \" + str(model2.evaluate(X_test, y_test)))\n",
    "print(\"score on train: \"+ str(model2.evaluate(X_train, y_train)))"
   ]
  },
  {
   "cell_type": "code",
   "execution_count": 8,
   "id": "aee94efe",
   "metadata": {},
   "outputs": [
    {
     "ename": "NameError",
     "evalue": "name 'model2' is not defined",
     "output_type": "error",
     "traceback": [
      "\u001b[0;31m---------------------------------------------------------------------------\u001b[0m",
      "\u001b[0;31mNameError\u001b[0m                                 Traceback (most recent call last)",
      "Cell \u001b[0;32mIn[8], line 2\u001b[0m\n\u001b[1;32m      1\u001b[0m X_new \u001b[38;5;241m=\u001b[39m final_encode[\u001b[38;5;241m0\u001b[39m:\u001b[38;5;241m10000\u001b[39m]\n\u001b[0;32m----> 2\u001b[0m y_proba \u001b[38;5;241m=\u001b[39m \u001b[43mmodel2\u001b[49m\u001b[38;5;241m.\u001b[39mpredict(X_new)\n\u001b[1;32m      3\u001b[0m y_proba\u001b[38;5;241m.\u001b[39mround(\u001b[38;5;241m2\u001b[39m)\n",
      "\u001b[0;31mNameError\u001b[0m: name 'model2' is not defined"
     ]
    }
   ],
   "source": [
    "X_new = final_encode[0:10000]\n",
    "y_proba = model2.predict(X_new)\n",
    "y_proba.round(2)"
   ]
  },
  {
   "cell_type": "code",
   "execution_count": 9,
   "id": "c545a2a6",
   "metadata": {},
   "outputs": [
    {
     "ename": "NameError",
     "evalue": "name 'np' is not defined",
     "output_type": "error",
     "traceback": [
      "\u001b[0;31m---------------------------------------------------------------------------\u001b[0m",
      "\u001b[0;31mNameError\u001b[0m                                 Traceback (most recent call last)",
      "Cell \u001b[0;32mIn[9], line 2\u001b[0m\n\u001b[1;32m      1\u001b[0m \u001b[38;5;28;01mimport\u001b[39;00m \u001b[38;5;21;01msys\u001b[39;00m\n\u001b[0;32m----> 2\u001b[0m \u001b[43mnp\u001b[49m\u001b[38;5;241m.\u001b[39mset_printoptions(threshold\u001b[38;5;241m=\u001b[39msys\u001b[38;5;241m.\u001b[39mmaxsize)\n\u001b[1;32m      3\u001b[0m y_pred \u001b[38;5;241m=\u001b[39m model2\u001b[38;5;241m.\u001b[39mpredict(X_new)\n\u001b[1;32m      4\u001b[0m classes_x\u001b[38;5;241m=\u001b[39mnp\u001b[38;5;241m.\u001b[39margmax(y_pred, axis\u001b[38;5;241m=\u001b[39m\u001b[38;5;241m1\u001b[39m)\n",
      "\u001b[0;31mNameError\u001b[0m: name 'np' is not defined"
     ]
    }
   ],
   "source": [
    "import sys\n",
    "np.set_printoptions(threshold=sys.maxsize)\n",
    "y_pred = model2.predict(X_new)\n",
    "classes_x=np.argmax(y_pred, axis=1)\n",
    "new = []\n",
    "\n",
    "print(label[0:10000])\n",
    "print(classes_x)"
   ]
  },
  {
   "cell_type": "code",
   "execution_count": 10,
   "id": "80f17e95",
   "metadata": {},
   "outputs": [
    {
     "ename": "NameError",
     "evalue": "name 'model2' is not defined",
     "output_type": "error",
     "traceback": [
      "\u001b[0;31m---------------------------------------------------------------------------\u001b[0m",
      "\u001b[0;31mNameError\u001b[0m                                 Traceback (most recent call last)",
      "Cell \u001b[0;32mIn[10], line 1\u001b[0m\n\u001b[0;32m----> 1\u001b[0m \u001b[38;5;28mprint\u001b[39m(\u001b[43mmodel2\u001b[49m\u001b[38;5;241m.\u001b[39msummary())\n",
      "\u001b[0;31mNameError\u001b[0m: name 'model2' is not defined"
     ]
    }
   ],
   "source": [
    "print(model2.summary())"
   ]
  },
  {
   "cell_type": "code",
   "execution_count": null,
   "id": "d29d24a7",
   "metadata": {},
   "outputs": [],
   "source": []
  }
 ],
 "metadata": {
  "kernelspec": {
   "display_name": "Python 3 (ipykernel)",
   "language": "python",
   "name": "python3"
  },
  "language_info": {
   "codemirror_mode": {
    "name": "ipython",
    "version": 3
   },
   "file_extension": ".py",
   "mimetype": "text/x-python",
   "name": "python",
   "nbconvert_exporter": "python",
   "pygments_lexer": "ipython3",
   "version": "3.10.9"
  }
 },
 "nbformat": 4,
 "nbformat_minor": 5
}
